{
 "cells": [
  {
   "cell_type": "markdown",
   "metadata": {},
   "source": [
    "# Day 6 Part 1"
   ]
  },
  {
   "cell_type": "code",
   "execution_count": 1,
   "metadata": {},
   "outputs": [
    {
     "data": {
      "text/plain": [
       "5131"
      ]
     },
     "execution_count": 1,
     "metadata": {},
     "output_type": "execute_result"
    }
   ],
   "source": [
    "# Using BFS\n",
    "\n",
    "grid = []\n",
    "s_row, s_col = 0, 0\n",
    "\n",
    "count = -1\n",
    "for line in open('day_6_input.txt', 'r'):\n",
    "    count += 1\n",
    "    line = line.strip()\n",
    "    grid.append(line)\n",
    "    if '^' in line:\n",
    "        s_row = count\n",
    "        s_col = line.index('^')\n",
    "\n",
    "ROWS = len(grid)\n",
    "COLS = len(grid[0])\n",
    "q = [(s_row, s_col, -1, 0)]\n",
    "visited = set([(s_row, s_col)])\n",
    "RIGHT_TURN_DIRECTIONS = {(1,0):(0,-1), (-1,0):(0,1), (0,1):(1,0), (0,-1):(-1,0)}\n",
    "\n",
    "while q:\n",
    "\n",
    "    r, c, dr, dc = q.pop(0)\n",
    "\n",
    "    if 0 <= r+dr < ROWS and 0 <= c+dc < COLS:\n",
    "        \n",
    "        if grid[r+dr][c+dc] == '#':\n",
    "            ndr, ndc = RIGHT_TURN_DIRECTIONS[(dr, dc)]\n",
    "            q.append((r,c,ndr,ndc))\n",
    "        else:\n",
    "            q.append((r+dr,c+dc,dr,dc))\n",
    "\n",
    "    else:\n",
    "        pass\n",
    "\n",
    "    visited.add((r, c))\n",
    "\n",
    "len(visited)"
   ]
  },
  {
   "cell_type": "markdown",
   "metadata": {},
   "source": [
    "# Day 6 Part 2"
   ]
  },
  {
   "cell_type": "code",
   "execution_count": null,
   "metadata": {},
   "outputs": [],
   "source": [
    "# Use previous part to get all points in the route. This optimises our search below.\n",
    "\n",
    "ROUTE = visited"
   ]
  },
  {
   "cell_type": "code",
   "execution_count": null,
   "metadata": {},
   "outputs": [
    {
     "data": {
      "text/plain": [
       "1784"
      ]
     },
     "execution_count": 4,
     "metadata": {},
     "output_type": "execute_result"
    }
   ],
   "source": [
    "grid = []\n",
    "s_row, s_col = 0, 0\n",
    "\n",
    "count = -1\n",
    "for line in open('day_6_input.txt', 'r'):\n",
    "    count += 1\n",
    "    line = list(line.strip())\n",
    "    grid.append(line)\n",
    "    if '^' in line:\n",
    "        s_row = count\n",
    "        s_col = line.index('^')\n",
    "\n",
    "ROWS = len(grid)\n",
    "COLS = len(grid[0])\n",
    "\n",
    "RIGHT_TURN_DIRECTIONS = {(1,0):(0,-1), (-1,0):(0,1), (0,1):(1,0), (0,-1):(-1,0)}\n",
    "\n",
    "def bfs_to_see_if_cyclic() -> bool:\n",
    "    # Return if we find a cyclic\n",
    "\n",
    "    q = [(s_row, s_col, -1, 0)]\n",
    "    visited = set()\n",
    "\n",
    "    while q:\n",
    "\n",
    "        r, c, dr, dc = q.pop(0)\n",
    "\n",
    "        if (r,c,dr,dc) in visited:\n",
    "            return True\n",
    "\n",
    "        if 0 <= r+dr < ROWS and 0 <= c+dc < COLS:\n",
    "            \n",
    "            if grid[r+dr][c+dc] == '#':\n",
    "                ndr, ndc = RIGHT_TURN_DIRECTIONS[(dr, dc)]\n",
    "                q.append((r,c,ndr,ndc))\n",
    "            else:\n",
    "                q.append((r+dr,c+dc,dr,dc))\n",
    "\n",
    "        else:\n",
    "            pass\n",
    "\n",
    "        visited.add((r, c, dr, dc))\n",
    "\n",
    "    return False\n",
    "\n",
    "count = 0\n",
    "# for r in range(ROWS):\n",
    "#     for c in range(COLS):\n",
    "#         if grid[r][c] == '.':\n",
    "#             grid[r][c] = '#'\n",
    "#             result = bfs_to_see_if_cyclic()\n",
    "#             grid[r][c] = '.'\n",
    "#             if result:\n",
    "#                 count += 1\n",
    "\n",
    "# The above code took 56s. The below code takes 12s by only trying squares which would alter the route.\n",
    "for r, c in ROUTE:\n",
    "    if (r,c) != (s_row, s_col) and grid[r][c] == '.': # In fact the first condition is redundant since the start symbol is ^ anyways.\n",
    "        grid[r][c] = '#'\n",
    "        result = bfs_to_see_if_cyclic()\n",
    "        grid[r][c] = '.'\n",
    "        if result:\n",
    "            count += 1\n",
    "count"
   ]
  }
 ],
 "metadata": {
  "kernelspec": {
   "display_name": "Python 3",
   "language": "python",
   "name": "python3"
  },
  "language_info": {
   "codemirror_mode": {
    "name": "ipython",
    "version": 3
   },
   "file_extension": ".py",
   "mimetype": "text/x-python",
   "name": "python",
   "nbconvert_exporter": "python",
   "pygments_lexer": "ipython3",
   "version": "3.10.11"
  }
 },
 "nbformat": 4,
 "nbformat_minor": 2
}
