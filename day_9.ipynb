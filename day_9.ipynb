{
 "cells": [
  {
   "cell_type": "markdown",
   "metadata": {},
   "source": [
    "# Day 9 Part 1"
   ]
  },
  {
   "cell_type": "code",
   "execution_count": 33,
   "metadata": {},
   "outputs": [
    {
     "data": {
      "text/plain": [
       "6399153661894"
      ]
     },
     "execution_count": 33,
     "metadata": {},
     "output_type": "execute_result"
    }
   ],
   "source": [
    "disk_map = open('day_9_input.txt', 'r').read().strip()\n",
    "\n",
    "is_free_space = False\n",
    "storage = []\n",
    "\n",
    "id_count = 0\n",
    "for i in range(len(disk_map)):\n",
    "    if is_free_space:\n",
    "        storage += ['.'] * int(disk_map[i])\n",
    "\n",
    "    else:\n",
    "        storage += [str(id_count)] * int(disk_map[i])\n",
    "        id_count += 1\n",
    "    is_free_space = not is_free_space\n",
    "\n",
    "head = storage.index('.')\n",
    "\n",
    "tail = len(storage) - 1\n",
    "for i in range(len(storage) - 1, -1, -1):\n",
    "    if storage[i] != '.':\n",
    "        tail = i\n",
    "        break\n",
    "\n",
    "while head < tail:\n",
    "    storage[head] = storage[tail]\n",
    "    storage[tail] = '.'\n",
    "    while storage[head] != '.':\n",
    "        head += 1\n",
    "    while storage[tail] == '.':\n",
    "        tail -= 1\n",
    "\n",
    "checksum = 0\n",
    "\n",
    "for i in range(len(storage)):\n",
    "    if storage[i].isnumeric():\n",
    "        checksum += int(storage[i]) * i\n",
    "    else:\n",
    "        break\n",
    "\n",
    "checksum"
   ]
  },
  {
   "cell_type": "markdown",
   "metadata": {},
   "source": [
    "# Day 9 Part 2"
   ]
  },
  {
   "cell_type": "code",
   "execution_count": null,
   "metadata": {},
   "outputs": [
    {
     "data": {
      "text/plain": [
       "6421724645083"
      ]
     },
     "execution_count": 66,
     "metadata": {},
     "output_type": "execute_result"
    }
   ],
   "source": [
    "disk_map = open('day_9_input.txt', 'r').read().strip()\n",
    "\n",
    "is_free_space = False\n",
    "storage = []\n",
    "\n",
    "id_count = 0\n",
    "for i in range(len(disk_map)):\n",
    "    if is_free_space:\n",
    "        storage.append((-1, int(disk_map[i])))\n",
    "\n",
    "    else:\n",
    "        storage.append((id_count, int(disk_map[i])))\n",
    "        id_count += 1\n",
    "        \n",
    "    is_free_space = not is_free_space\n",
    "\n",
    "tail = 0\n",
    "for i in range(len(storage) - 1, -1, -1):\n",
    "    if storage[i][0] != -1:\n",
    "        tail = i\n",
    "        break\n",
    "\n",
    "while tail > 0:\n",
    "    identifier, length = storage[tail]\n",
    "    for i in range(0, tail):\n",
    "        if storage[i][0] == -1 and storage[i][1] >= length:\n",
    "            diff = storage[i][1] - length\n",
    "            storage[i] = (-1, diff)\n",
    "            storage.insert(i, (identifier, length))\n",
    "            tail += 1\n",
    "            storage[tail] = (-1, length)\n",
    "            break\n",
    "\n",
    "    tail -= 1\n",
    "\n",
    "    while tail >= 0 and storage[tail][0] == -1:\n",
    "        tail -= 1\n",
    "\n",
    "\n",
    "s = []\n",
    "for symbol, length in storage:\n",
    "    if symbol == -1:\n",
    "        s += [-1] * length\n",
    "    else:\n",
    "        s += [symbol] * length\n",
    "\n",
    "checksum = 0\n",
    "for i in range(len(s)):\n",
    "    if s[i] != -1:\n",
    "        checksum += i * s[i]\n",
    "\n",
    "checksum"
   ]
  }
 ],
 "metadata": {
  "kernelspec": {
   "display_name": "Python 3",
   "language": "python",
   "name": "python3"
  },
  "language_info": {
   "codemirror_mode": {
    "name": "ipython",
    "version": 3
   },
   "file_extension": ".py",
   "mimetype": "text/x-python",
   "name": "python",
   "nbconvert_exporter": "python",
   "pygments_lexer": "ipython3",
   "version": "3.10.11"
  }
 },
 "nbformat": 4,
 "nbformat_minor": 2
}
