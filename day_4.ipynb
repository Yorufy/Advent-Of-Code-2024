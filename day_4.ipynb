{
 "cells": [
  {
   "cell_type": "markdown",
   "metadata": {},
   "source": [
    "# Day 4 Part 1"
   ]
  },
  {
   "cell_type": "code",
   "execution_count": 28,
   "metadata": {},
   "outputs": [
    {
     "data": {
      "text/plain": [
       "2593"
      ]
     },
     "execution_count": 28,
     "metadata": {},
     "output_type": "execute_result"
    }
   ],
   "source": [
    "grid = []\n",
    "\n",
    "for line in open('day_4_input.txt', 'r'):\n",
    "    grid.append(line.strip())\n",
    "\n",
    "ROWS = len(grid)\n",
    "COLS = len(grid[0])\n",
    "\n",
    "xmas_count = 0\n",
    "\n",
    "for i in range(ROWS):\n",
    "    for j in range(COLS):\n",
    "        if grid[i][j] == 'X':\n",
    "            \n",
    "            for di, dj in ((0,1), (0,-1), (1,0), (-1,0), (1,1), (-1,-1), (1,-1), (-1,1)):\n",
    "                s = ''\n",
    "                count = 0\n",
    "                while count <= 3 and 0 <= i + count*di < ROWS and 0 <= j + count*dj < COLS:\n",
    "                    s += grid[i+count*di][j+count*dj]\n",
    "                    count += 1\n",
    "                if s == 'XMAS' or ''.join(list(reversed(list(s)))) == 'XMAS':\n",
    "                    xmas_count += 1\n",
    "\n",
    "xmas_count"
   ]
  },
  {
   "cell_type": "markdown",
   "metadata": {},
   "source": [
    "# Day 4 Part 2"
   ]
  },
  {
   "cell_type": "code",
   "execution_count": 24,
   "metadata": {},
   "outputs": [
    {
     "data": {
      "text/plain": [
       "1950"
      ]
     },
     "execution_count": 24,
     "metadata": {},
     "output_type": "execute_result"
    }
   ],
   "source": [
    "grid = []\n",
    "\n",
    "for line in open('day_4_input.txt', 'r'):\n",
    "    grid.append(line.strip())\n",
    "\n",
    "ROWS = len(grid)\n",
    "COLS = len(grid[0])\n",
    "\n",
    "xmas_count = 0\n",
    "\n",
    "for i in range(ROWS):\n",
    "    for j in range(COLS):\n",
    "        if grid[i][j] == 'A':\n",
    "            \n",
    "            flag = True\n",
    "            for di, dj in ((1,1), (1,-1)):\n",
    "                s = ''\n",
    "                count = -1\n",
    "                while count <= 1 and 0 <= i + count*di < ROWS and 0 <= j + count*dj < COLS:\n",
    "                    s += grid[i+count*di][j+count*dj]\n",
    "                    count += 1\n",
    "                if s == 'MAS' or ''.join(list(reversed(list(s)))) == 'MAS':\n",
    "                    flag = flag and True\n",
    "                else:\n",
    "                    flag = False\n",
    "            if flag is True:\n",
    "                xmas_count += 1\n",
    "\n",
    "xmas_count"
   ]
  }
 ],
 "metadata": {
  "kernelspec": {
   "display_name": "Python 3",
   "language": "python",
   "name": "python3"
  },
  "language_info": {
   "codemirror_mode": {
    "name": "ipython",
    "version": 3
   },
   "file_extension": ".py",
   "mimetype": "text/x-python",
   "name": "python",
   "nbconvert_exporter": "python",
   "pygments_lexer": "ipython3",
   "version": "3.10.11"
  }
 },
 "nbformat": 4,
 "nbformat_minor": 2
}
