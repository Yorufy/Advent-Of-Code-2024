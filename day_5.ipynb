{
 "cells": [
  {
   "cell_type": "markdown",
   "metadata": {},
   "source": [
    "# Day 5 Part 1"
   ]
  },
  {
   "cell_type": "code",
   "execution_count": 12,
   "metadata": {},
   "outputs": [
    {
     "data": {
      "text/plain": [
       "4609"
      ]
     },
     "execution_count": 12,
     "metadata": {},
     "output_type": "execute_result"
    }
   ],
   "source": [
    "rules = dict()\n",
    "lines = []\n",
    "count = 0\n",
    "\n",
    "rule_making_flag = True\n",
    "for line in open('day_5_input.txt', 'r').readlines():\n",
    "    line = line.strip()\n",
    "    if line == '':\n",
    "        rule_making_flag = False\n",
    "    else:\n",
    "        if rule_making_flag:\n",
    "            r1, r2 = map(int, line.split('|'))\n",
    "\n",
    "            if r1 in rules.keys():\n",
    "                rules[r1].append(r2)\n",
    "            else:\n",
    "                rules[r1] = [r2]\n",
    "        else:\n",
    "            lines.append(list(map(int, line.split(','))))\n",
    "\n",
    "for line in lines:\n",
    "    valid = True\n",
    "    for i in range(len(line)):\n",
    "        for j in range(i+1, len(line)):\n",
    "            if line[j] in rules[line[i]]:\n",
    "                continue\n",
    "            else:\n",
    "                valid = False\n",
    "                break\n",
    "    if valid:\n",
    "        count += line[len(line)//2]\n",
    "\n",
    "count"
   ]
  },
  {
   "cell_type": "markdown",
   "metadata": {},
   "source": [
    "# Day 5 Part 2\n"
   ]
  },
  {
   "cell_type": "code",
   "execution_count": null,
   "metadata": {},
   "outputs": [
    {
     "data": {
      "text/plain": [
       "5723"
      ]
     },
     "execution_count": 17,
     "metadata": {},
     "output_type": "execute_result"
    }
   ],
   "source": [
    "rules = dict()\n",
    "lines = []\n",
    "count = 0\n",
    "\n",
    "rule_making_flag = True\n",
    "for line in open('day_5_input.txt', 'r').readlines():\n",
    "    line = line.strip()\n",
    "    if line == '':\n",
    "        rule_making_flag = False\n",
    "    else:\n",
    "        if rule_making_flag:\n",
    "            r1, r2 = map(int, line.split('|'))\n",
    "\n",
    "            if r1 in rules.keys():\n",
    "                rules[r1].append(r2)\n",
    "            else:\n",
    "                rules[r1] = [r2]\n",
    "        else:\n",
    "            lines.append(list(map(int, line.split(','))))\n",
    "\n",
    "def is_valid(line: list[int]) -> bool:\n",
    "    valid = True\n",
    "    for i in range(len(line)):\n",
    "        for j in range(i+1, len(line)):\n",
    "            if line[j] in rules[line[i]]:\n",
    "                continue\n",
    "            else:\n",
    "                valid = False\n",
    "                break\n",
    "    return valid\n",
    "\n",
    "def need_to_swap(first:int, second:int) -> bool:\n",
    "    if second in rules[first]:\n",
    "        return False\n",
    "    return True\n",
    "\n",
    "for line in lines:\n",
    "    valid = is_valid(line)\n",
    "    if valid:\n",
    "        pass\n",
    "    else:\n",
    "        for i in range(len(line)):\n",
    "\n",
    "            for j in range(len(line)-1):\n",
    "                if need_to_swap(line[j], line[j+1]):\n",
    "                    temp = line[j]\n",
    "                    line[j] = line[j+1]\n",
    "                    line[j+1] = temp\n",
    "\n",
    "        count += line[len(line)//2]\n",
    "\n",
    "count"
   ]
  }
 ],
 "metadata": {
  "kernelspec": {
   "display_name": "Python 3",
   "language": "python",
   "name": "python3"
  },
  "language_info": {
   "codemirror_mode": {
    "name": "ipython",
    "version": 3
   },
   "file_extension": ".py",
   "mimetype": "text/x-python",
   "name": "python",
   "nbconvert_exporter": "python",
   "pygments_lexer": "ipython3",
   "version": "3.10.11"
  }
 },
 "nbformat": 4,
 "nbformat_minor": 2
}
