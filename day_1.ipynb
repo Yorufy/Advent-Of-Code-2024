{
 "cells": [
  {
   "cell_type": "markdown",
   "metadata": {},
   "source": [
    "# Day 1 Part 1"
   ]
  },
  {
   "cell_type": "code",
   "execution_count": 8,
   "metadata": {},
   "outputs": [
    {
     "name": "stdout",
     "output_type": "stream",
     "text": [
      "3714264\n"
     ]
    }
   ],
   "source": [
    "lst1 = []\n",
    "lst2 = []\n",
    "\n",
    "file = open('day_1_input.txt', 'r')\n",
    "for line in file:\n",
    "    val1, val2 = line.split('   ')\n",
    "    lst1.append(int(val1))\n",
    "    lst2.append(int(val2))\n",
    "\n",
    "lst1.sort()\n",
    "lst2.sort()\n",
    "\n",
    "count = 0\n",
    "for i in range(len(lst1)):\n",
    "    dist = abs(lst2[i] - lst1[i])\n",
    "    count += dist\n",
    "\n",
    "print(count)"
   ]
  },
  {
   "cell_type": "markdown",
   "metadata": {},
   "source": [
    "# Day 1 Part 2"
   ]
  },
  {
   "cell_type": "code",
   "execution_count": 12,
   "metadata": {},
   "outputs": [
    {
     "data": {
      "text/plain": [
       "18805872"
      ]
     },
     "execution_count": 12,
     "metadata": {},
     "output_type": "execute_result"
    }
   ],
   "source": [
    "similarity_score = 0\n",
    "\n",
    "lst1 = []\n",
    "lst2 = []\n",
    "\n",
    "file = open('day_1_input.txt', 'r')\n",
    "for line in file:\n",
    "    val1, val2 = line.split('   ')\n",
    "    lst1.append(int(val1))\n",
    "    lst2.append(int(val2))\n",
    "\n",
    "for i in range(len(lst1)):\n",
    "    val = lst1[i]\n",
    "    occ = lst2.count(val)\n",
    "    similarity_score += val * occ\n",
    "\n",
    "similarity_score"
   ]
  }
 ],
 "metadata": {
  "kernelspec": {
   "display_name": "Python 3",
   "language": "python",
   "name": "python3"
  },
  "language_info": {
   "codemirror_mode": {
    "name": "ipython",
    "version": 3
   },
   "file_extension": ".py",
   "mimetype": "text/x-python",
   "name": "python",
   "nbconvert_exporter": "python",
   "pygments_lexer": "ipython3",
   "version": "3.10.11"
  }
 },
 "nbformat": 4,
 "nbformat_minor": 2
}
