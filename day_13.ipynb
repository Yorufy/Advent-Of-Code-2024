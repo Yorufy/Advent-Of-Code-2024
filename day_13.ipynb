{
 "cells": [
  {
   "cell_type": "markdown",
   "metadata": {},
   "source": [
    "# Day 13 Part 1\n",
    "\n",
    "If we push button A $a$ times and button B $b$ times, then we need to satisfy two simultaneous equations:\n",
    "\n",
    "$a\\times adx + b\\times bdx = X$ and\n",
    "$a\\times ady + b\\times bdy = Y$, where $adx, ady, bdx, bdy$ are known constants and $a, b$ are to be found."
   ]
  },
  {
   "cell_type": "code",
   "execution_count": 22,
   "metadata": {},
   "outputs": [
    {
     "data": {
      "text/latex": [
       "$\\displaystyle 29187$"
      ],
      "text/plain": [
       "29187"
      ]
     },
     "execution_count": 22,
     "metadata": {},
     "output_type": "execute_result"
    }
   ],
   "source": [
    "import sympy\n",
    "import re\n",
    "\n",
    "def find_button_presses(X, Y, adx, ady, bdx, bdy):\n",
    "\n",
    "    a, b = sympy.symbols('a,b')\n",
    "    eq1 = sympy.Eq(a * adx + b * bdx, X)\n",
    "    eq2 = sympy.Eq(a * ady + b * bdy, Y)\n",
    "    result = sympy.solve([eq1, eq2],(a,b))\n",
    "\n",
    "    ra, rb = result[a], result[b]\n",
    "    if ra.is_Integer and rb.is_Integer and ra >= 0 and rb >= 0:\n",
    "        return (ra, rb)\n",
    "    return (-1, -1)\n",
    "\n",
    "ans = 0\n",
    "\n",
    "for block in open('day_13_input.txt', 'r').read().split('\\n\\n'):\n",
    "    adx, ady, bdx, bdy, x, y = map(int, re.findall('\\d+', block))\n",
    "    res = find_button_presses(x, y, adx, ady, bdx, bdy)\n",
    "    if res == (-1, -1):\n",
    "        continue\n",
    "    ans += 3 * res[0] + res[1]\n",
    "\n",
    "ans"
   ]
  },
  {
   "cell_type": "markdown",
   "metadata": {},
   "source": [
    "# Day 13 Part 2"
   ]
  },
  {
   "cell_type": "code",
   "execution_count": 21,
   "metadata": {},
   "outputs": [
    {
     "data": {
      "text/latex": [
       "$\\displaystyle 99968222587852$"
      ],
      "text/plain": [
       "99968222587852"
      ]
     },
     "execution_count": 21,
     "metadata": {},
     "output_type": "execute_result"
    }
   ],
   "source": [
    "import sympy\n",
    "import re\n",
    "\n",
    "def find_button_presses(X, Y, adx, ady, bdx, bdy):\n",
    "\n",
    "    a, b = sympy.symbols('a,b')\n",
    "    eq1 = sympy.Eq(a * adx + b * bdx, X)\n",
    "    eq2 = sympy.Eq(a * ady + b * bdy, Y)\n",
    "    result = sympy.solve([eq1, eq2],(a,b))\n",
    "\n",
    "    ra, rb = result[a], result[b]\n",
    "    if ra.is_Integer and rb.is_Integer and ra >= 0 and rb >= 0:\n",
    "        return (ra, rb)\n",
    "    return (-1, -1)\n",
    "\n",
    "ans = 0\n",
    "\n",
    "for block in open('day_13_input.txt', 'r').read().split('\\n\\n'):\n",
    "    adx, ady, bdx, bdy, x, y = map(int, re.findall('\\d+', block))\n",
    "    res = find_button_presses(x+10000000000000, y+10000000000000, adx, ady, bdx, bdy)\n",
    "    if res == (-1, -1):\n",
    "        continue\n",
    "    ans += 3 * res[0] + res[1]\n",
    "\n",
    "ans"
   ]
  }
 ],
 "metadata": {
  "kernelspec": {
   "display_name": "base",
   "language": "python",
   "name": "python3"
  },
  "language_info": {
   "codemirror_mode": {
    "name": "ipython",
    "version": 3
   },
   "file_extension": ".py",
   "mimetype": "text/x-python",
   "name": "python",
   "nbconvert_exporter": "python",
   "pygments_lexer": "ipython3",
   "version": "3.11.4"
  }
 },
 "nbformat": 4,
 "nbformat_minor": 2
}
