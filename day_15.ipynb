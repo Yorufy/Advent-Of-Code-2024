{
 "cells": [
  {
   "cell_type": "markdown",
   "metadata": {},
   "source": [
    "# Day 15 Part 1"
   ]
  },
  {
   "cell_type": "code",
   "execution_count": 142,
   "metadata": {},
   "outputs": [
    {
     "data": {
      "text/plain": [
       "1349898"
      ]
     },
     "execution_count": 142,
     "metadata": {},
     "output_type": "execute_result"
    }
   ],
   "source": [
    "grid = []\n",
    "instructions = []\n",
    "\n",
    "row_count = -1\n",
    "instruction_flag = False\n",
    "for line in open('day_15_input.txt', 'r'):\n",
    "    row_count += 1\n",
    "    line = line.strip()\n",
    "    if not instruction_flag:\n",
    "        if line == '':\n",
    "            instruction_flag = True\n",
    "            continue\n",
    "        grid.append(list(line))\n",
    "\n",
    "        start_index = line.find('@')\n",
    "        if start_index != -1:\n",
    "            sr, sc = row_count, start_index\n",
    "    else:\n",
    "        instructions += list(line)\n",
    "\n",
    "ROWS = len(grid)\n",
    "COLS = len(grid[0])\n",
    "DIRECTIONS = {'^': (-1, 0), 'v': (1, 0), '<': (0, -1), '>': (0, 1)}\n",
    "\n",
    "for instruction in instructions:\n",
    "    dr, dc = DIRECTIONS[instruction]\n",
    "\n",
    "    i = 1\n",
    "    while 0 <= sr+i*dr < ROWS and 0 <= sc+i*dc < COLS and grid[sr+i*dr][sc+i*dc] == 'O':\n",
    "        i += 1\n",
    "    else:\n",
    "        space_r, space_c = sr+i*dr, sc+i*dc\n",
    "        if grid[space_r][space_c] == '#':\n",
    "            continue\n",
    "        for j in range(i, 0, -1):\n",
    "            grid[sr+j*dr][sc+j*dc], grid[sr+(j-1)*dr][sc+(j-1)*dc] = grid[sr+(j-1)*dr][sc+(j-1)*dc], grid[sr+j*dr][sc+j*dc]\n",
    "        sr += dr\n",
    "        sc += dc\n",
    "\n",
    "ans = 0\n",
    "\n",
    "for r in range(ROWS):\n",
    "    for c in range(COLS):\n",
    "        if grid[r][c] == 'O':\n",
    "            ans += 100*r + c\n",
    "        \n",
    "ans"
   ]
  },
  {
   "cell_type": "markdown",
   "metadata": {},
   "source": [
    "# Day 15 Part 2"
   ]
  },
  {
   "cell_type": "code",
   "execution_count": 143,
   "metadata": {},
   "outputs": [
    {
     "data": {
      "text/plain": [
       "1376686"
      ]
     },
     "execution_count": 143,
     "metadata": {},
     "output_type": "execute_result"
    }
   ],
   "source": [
    "grid = []\n",
    "instructions = []\n",
    "\n",
    "row_count = -1\n",
    "instruction_flag = False\n",
    "for line in open('day_15_input.txt', 'r'):\n",
    "    row_count += 1\n",
    "    line = line.strip()\n",
    "    if not instruction_flag:\n",
    "        if line == '':\n",
    "            instruction_flag = True\n",
    "            continue\n",
    "        line = line.replace('#', '##').replace('O', '[]').replace('.', '..').replace('@', '@.')\n",
    "        grid.append(list(line))\n",
    "        \n",
    "        start_index = line.find('@')\n",
    "        if start_index != -1:\n",
    "            sr, sc = row_count, start_index\n",
    "    else:\n",
    "        instructions += list(line)\n",
    "\n",
    "ROWS = len(grid)\n",
    "COLS = len(grid[0])\n",
    "DIRECTIONS = {'^': (-1, 0), 'v': (1, 0), '<': (0, -1), '>': (0, 1)}\n",
    "\n",
    "# When we receive an instruction and we are moving into a box A, we need to start a flood fill to find all other boxes connected to box A on the edge in the direction of its movement.\n",
    "# e.g. if moving upward into a box A, we need to check whether there are boxes connected to its north side.\n",
    "\n",
    "def bfs(sr, sc, dr, dc) -> bool:\n",
    "    # Given a queue containing the coordinates (sr,sc) of the robot and the direction of the movement, return whether it is possible to make a move in that direction or not.\n",
    "    q = [(sr, sc)]\n",
    "    visited = []\n",
    "\n",
    "    while q:\n",
    "        for _ in range(len(q)):\n",
    "            r, c = q.pop(0)\n",
    "\n",
    "            match grid[r+dr][c+dc]:\n",
    "                case '#':\n",
    "                    return (False, None)\n",
    "                case '[':\n",
    "                    if dr != 0 and (r+dr, c+dc+1) not in q and (r+dr, c+dc+1) not in visited:\n",
    "                        q.append((r+dr, c+dc+1))\n",
    "                    \n",
    "                    if (r+dr, c+dc) not in q and (r+dr, c+dc) not in visited:\n",
    "                        q.append((r+dr,c+dc))\n",
    "                case ']':\n",
    "                    if dr != 0 and (r+dr, c+dc-1) not in q and (r+dr, c+dc-1) not in visited:\n",
    "                        q.append((r+dr, c+dc-1))\n",
    "                        \n",
    "                    if (r+dr, c+dc) not in q and (r+dr, c+dc) not in visited:\n",
    "                        q.append((r+dr,c+dc))\n",
    "                case '.':\n",
    "                    pass\n",
    "\n",
    "            visited.append((r,c))\n",
    "\n",
    "    return (True, visited)\n",
    "\n",
    "# Earlier items in visited are closer to the robot, and later items are further away. So we start the swapping from the items which are further away.\n",
    "\n",
    "for instruction in instructions:\n",
    "    dr, dc = DIRECTIONS[instruction]\n",
    "\n",
    "    is_possible, visited = bfs(sr, sc, dr, dc)\n",
    "    if not is_possible:\n",
    "        continue\n",
    "    for i in range(len(visited)-1, -1, -1):\n",
    "        r, c = visited[i]\n",
    "        grid[r+dr][c+dc], grid[r][c] = grid[r][c], grid[r+dr][c+dc]\n",
    "    sr += dr\n",
    "    sc += dc\n",
    "\n",
    "ans = 0\n",
    "\n",
    "for r in range(ROWS):\n",
    "    for c in range(COLS):\n",
    "        if grid[r][c] == '[':\n",
    "            ans += 100*r + c\n",
    "        \n",
    "ans"
   ]
  }
 ],
 "metadata": {
  "kernelspec": {
   "display_name": "base",
   "language": "python",
   "name": "python3"
  },
  "language_info": {
   "codemirror_mode": {
    "name": "ipython",
    "version": 3
   },
   "file_extension": ".py",
   "mimetype": "text/x-python",
   "name": "python",
   "nbconvert_exporter": "python",
   "pygments_lexer": "ipython3",
   "version": "3.11.4"
  }
 },
 "nbformat": 4,
 "nbformat_minor": 2
}
