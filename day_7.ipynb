{
 "cells": [
  {
   "cell_type": "markdown",
   "metadata": {},
   "source": [
    "# Day 7 Part 1"
   ]
  },
  {
   "cell_type": "code",
   "execution_count": 11,
   "metadata": {},
   "outputs": [
    {
     "data": {
      "text/plain": [
       "6231007345478"
      ]
     },
     "execution_count": 11,
     "metadata": {},
     "output_type": "execute_result"
    }
   ],
   "source": [
    "def backtrack(operands: list[int], target: int) -> bool:\n",
    "\n",
    "    if len(operands) == 1:\n",
    "        return operands[0] == target\n",
    "\n",
    "    last = operands[-1]\n",
    "    if target % last == 0 and backtrack(operands[:-1], target // last):\n",
    "        return True\n",
    "\n",
    "    return backtrack(operands[:-1], target - last)\n",
    "\n",
    "count = 0\n",
    "\n",
    "for line in open('day_7_input.txt', 'r'):\n",
    "    test_value, rest = line.strip().split(': ')\n",
    "    test_value = int(test_value)\n",
    "    operands = list(map(int, rest.split(' ')))\n",
    "\n",
    "    if backtrack(operands, test_value):\n",
    "        count += test_value\n",
    "\n",
    "count"
   ]
  },
  {
   "cell_type": "markdown",
   "metadata": {},
   "source": [
    "# Day 7 Part 2"
   ]
  },
  {
   "cell_type": "code",
   "execution_count": 23,
   "metadata": {},
   "outputs": [
    {
     "data": {
      "text/plain": [
       "333027885676693"
      ]
     },
     "execution_count": 23,
     "metadata": {},
     "output_type": "execute_result"
    }
   ],
   "source": [
    "def backtrack(operands: list[int], target: int) -> bool:\n",
    "\n",
    "    if len(operands) == 1:\n",
    "        return operands[0] == target\n",
    "\n",
    "    if target <= 0:\n",
    "        return False\n",
    "\n",
    "    last = operands[-1]\n",
    "    if target % last == 0 and backtrack(operands[:-1], target // last):\n",
    "        return True\n",
    "\n",
    "    if backtrack(operands[:-1], target - last):\n",
    "        return True\n",
    "\n",
    "    tlength = len(str(target))\n",
    "    llength = len(str(last))\n",
    "    if tlength > llength and str(target)[tlength - llength:] == str(last):\n",
    "        return backtrack(operands[:-1], int(str(target)[:tlength - llength]))\n",
    "\n",
    "    return False\n",
    "\n",
    "count = 0\n",
    "\n",
    "for line in open('day_7_input.txt', 'r'):\n",
    "    test_value, rest = line.strip().split(': ')\n",
    "    test_value = int(test_value)\n",
    "    operands = list(map(int, rest.split(' ')))\n",
    "\n",
    "    if backtrack(operands, test_value):\n",
    "        count += test_value\n",
    "\n",
    "count"
   ]
  }
 ],
 "metadata": {
  "kernelspec": {
   "display_name": "Python 3",
   "language": "python",
   "name": "python3"
  },
  "language_info": {
   "codemirror_mode": {
    "name": "ipython",
    "version": 3
   },
   "file_extension": ".py",
   "mimetype": "text/x-python",
   "name": "python",
   "nbconvert_exporter": "python",
   "pygments_lexer": "ipython3",
   "version": "3.10.11"
  }
 },
 "nbformat": 4,
 "nbformat_minor": 2
}
