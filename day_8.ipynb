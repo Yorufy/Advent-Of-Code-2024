{
 "cells": [
  {
   "cell_type": "markdown",
   "metadata": {},
   "source": [
    "# Day 8 Part 1"
   ]
  },
  {
   "cell_type": "code",
   "execution_count": 4,
   "metadata": {},
   "outputs": [
    {
     "data": {
      "text/plain": [
       "293"
      ]
     },
     "execution_count": 4,
     "metadata": {},
     "output_type": "execute_result"
    }
   ],
   "source": [
    "grid = []\n",
    "antennae = dict()\n",
    "antinodes = set()\n",
    "\n",
    "row = -1\n",
    "for line in open('day_8_input.txt', 'r'):\n",
    "    row += 1\n",
    "    grid.append(line.strip())\n",
    "    for col in range(len(line)):\n",
    "        if line[col].isalnum():\n",
    "            if antennae.get(line[col]) is not None:\n",
    "                antennae[line[col]].append((row,col))\n",
    "            else:\n",
    "                antennae[line[col]] = [(row,col)]\n",
    "\n",
    "ROWS, COLS = len(grid), len(grid[0])\n",
    "\n",
    "for frequency in antennae.keys():\n",
    "    locations = antennae[frequency]\n",
    "    for i in range(len(locations)):\n",
    "        fr, fc = locations[i]\n",
    "        for j in range(i+1,len(locations)):\n",
    "            sr, sc = locations[j]\n",
    "\n",
    "            dr, dc = sr - fr, sc - fc\n",
    "\n",
    "            if 0 <= sr + dr < ROWS and 0 <= sc + dc < COLS:\n",
    "                antinodes.add((sr+dr, sc+dc))\n",
    "            if 0 <= fr - dr < ROWS and 0 <= fc - dc < COLS:\n",
    "                antinodes.add((fr-dr, fc-dc))\n",
    "            \n",
    "len(antinodes)"
   ]
  },
  {
   "cell_type": "markdown",
   "metadata": {},
   "source": [
    "# Day 8 Part 2"
   ]
  },
  {
   "cell_type": "code",
   "execution_count": 12,
   "metadata": {},
   "outputs": [
    {
     "data": {
      "text/plain": [
       "934"
      ]
     },
     "execution_count": 12,
     "metadata": {},
     "output_type": "execute_result"
    }
   ],
   "source": [
    "grid = []\n",
    "antennae = dict()\n",
    "antinodes = set()\n",
    "\n",
    "row = -1\n",
    "for line in open('day_8_input.txt', 'r'):\n",
    "    row += 1\n",
    "    grid.append(line.strip())\n",
    "    for col in range(len(line)):\n",
    "        if line[col].isalnum():\n",
    "            if antennae.get(line[col]) is not None:\n",
    "                antennae[line[col]].append((row,col))\n",
    "            else:\n",
    "                antennae[line[col]] = [(row,col)]\n",
    "\n",
    "ROWS, COLS = len(grid), len(grid[0])\n",
    "\n",
    "for frequency in antennae.keys():\n",
    "    locations = antennae[frequency]\n",
    "    for i in range(len(locations)):\n",
    "        fr, fc = locations[i]\n",
    "        for j in range(i+1,len(locations)):\n",
    "            sr, sc = locations[j]\n",
    "    \n",
    "            dr, dc = sr - fr, sc - fc\n",
    "\n",
    "            offset = 0\n",
    "            # Positive direction\n",
    "            while 0 <= sr + offset*dr < ROWS and 0 <= sc + offset*dc < COLS:\n",
    "                antinodes.add((sr+offset*dr, sc+offset*dc))\n",
    "                offset += 1\n",
    "            \n",
    "            offset = 0\n",
    "            # Negative direction\n",
    "            while 0 <= fr - offset*dr < ROWS and 0 <= fc - offset*dc < COLS:\n",
    "                antinodes.add((fr-offset*dr, fc-offset*dc))\n",
    "                offset += 1\n",
    "            \n",
    "len(antinodes)"
   ]
  }
 ],
 "metadata": {
  "kernelspec": {
   "display_name": "Python 3",
   "language": "python",
   "name": "python3"
  },
  "language_info": {
   "codemirror_mode": {
    "name": "ipython",
    "version": 3
   },
   "file_extension": ".py",
   "mimetype": "text/x-python",
   "name": "python",
   "nbconvert_exporter": "python",
   "pygments_lexer": "ipython3",
   "version": "3.10.11"
  }
 },
 "nbformat": 4,
 "nbformat_minor": 2
}
