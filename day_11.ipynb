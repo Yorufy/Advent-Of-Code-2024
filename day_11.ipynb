{
 "cells": [
  {
   "cell_type": "markdown",
   "metadata": {},
   "source": [
    "# Day 11 Part 1"
   ]
  },
  {
   "cell_type": "code",
   "execution_count": 3,
   "metadata": {},
   "outputs": [
    {
     "data": {
      "text/plain": [
       "182081"
      ]
     },
     "execution_count": 3,
     "metadata": {},
     "output_type": "execute_result"
    }
   ],
   "source": [
    "stones = list(map(int, open('day_11_input.txt', 'r').read().split(' ')))\n",
    "\n",
    "for blink in range(25):\n",
    "    i = 0\n",
    "\n",
    "    while i < len(stones):\n",
    "        if stones[i] == 0:\n",
    "            stones[i] = 1\n",
    "            i += 1\n",
    "        elif len(str(stones[i])) % 2 == 0:\n",
    "            sstonesi = str(stones[i])\n",
    "            left = int(sstonesi[:len(sstonesi)//2])\n",
    "            right = int(sstonesi[len(sstonesi)//2:])\n",
    "            stones[i] = right\n",
    "            stones.insert(i, left)\n",
    "            i += 2\n",
    "        else:\n",
    "            stones[i] *= 2024\n",
    "            i += 1\n",
    "    \n",
    "len(stones)"
   ]
  },
  {
   "cell_type": "markdown",
   "metadata": {},
   "source": [
    "# Day 11 Part 2\n",
    "\n",
    "Use top-down dynamic programming with memoisation."
   ]
  },
  {
   "cell_type": "code",
   "execution_count": 2,
   "metadata": {},
   "outputs": [
    {
     "data": {
      "text/plain": [
       "216318908621637"
      ]
     },
     "execution_count": 2,
     "metadata": {},
     "output_type": "execute_result"
    }
   ],
   "source": [
    "stones = list(map(int, open('day_11_input.txt', 'r').read().split(' ')))\n",
    "\n",
    "memo = dict() # (stone, depth) -> answer/numberofstonesproduced\n",
    "\n",
    "def stone_transition(stone: int) -> list[int]:\n",
    "    ans = None\n",
    "    if stone == 0:\n",
    "        ans = [1]\n",
    "    elif len(str(stone)) % 2 == 0:\n",
    "        s = str(stone)\n",
    "        length = len(s)\n",
    "        left = int(s[:length//2])\n",
    "        right = int(s[length//2:])\n",
    "        ans = [left, right]\n",
    "    else:\n",
    "        ans = [stone * 2024]\n",
    "    memo[(stone, 1)] = len(ans)\n",
    "    return ans\n",
    "\n",
    "def traversal(stone: int, depth: int):\n",
    "\n",
    "    if depth == 0:\n",
    "        return 1\n",
    "    \n",
    "    if (stone, depth) in memo.keys():\n",
    "        return memo[(stone, depth)]\n",
    "\n",
    "    count = 0\n",
    "\n",
    "    for next_stone in stone_transition(stone):\n",
    "        result = traversal(next_stone, depth - 1)\n",
    "        memo[(next_stone, depth - 1)] = result\n",
    "        count += result\n",
    "\n",
    "    memo[(stone, depth)] = count\n",
    "    return count\n",
    "\n",
    "ans = 0\n",
    "\n",
    "for stone in stones:\n",
    "    ans += traversal(stone, 75)\n",
    "\n",
    "ans"
   ]
  }
 ],
 "metadata": {
  "kernelspec": {
   "display_name": "Python 3",
   "language": "python",
   "name": "python3"
  },
  "language_info": {
   "codemirror_mode": {
    "name": "ipython",
    "version": 3
   },
   "file_extension": ".py",
   "mimetype": "text/x-python",
   "name": "python",
   "nbconvert_exporter": "python",
   "pygments_lexer": "ipython3",
   "version": "3.10.11"
  }
 },
 "nbformat": 4,
 "nbformat_minor": 2
}
