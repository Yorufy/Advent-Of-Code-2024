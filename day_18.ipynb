{
 "cells": [
  {
   "cell_type": "markdown",
   "metadata": {},
   "source": [
    "# Day 18 Part 1"
   ]
  },
  {
   "cell_type": "code",
   "execution_count": 8,
   "metadata": {},
   "outputs": [
    {
     "data": {
      "text/plain": [
       "432"
      ]
     },
     "execution_count": 8,
     "metadata": {},
     "output_type": "execute_result"
    }
   ],
   "source": [
    "r, c = 0, 0\n",
    "\n",
    "ROWS, COLS = 71, 71\n",
    "\n",
    "grid = [[0] * COLS for _ in range(ROWS)]\n",
    "\n",
    "count = -1\n",
    "for line in open('day_18_input.txt', 'r'):\n",
    "    count += 1\n",
    "    if count == 1024:\n",
    "        break\n",
    "    x, y = map(int, line.strip().split(','))\n",
    "    grid[y][x] = 1\n",
    "\n",
    "q = [(r, c)]\n",
    "dp = [[float('inf')] * COLS for _ in range(ROWS)]\n",
    "dp[0][0] = 0\n",
    "DIRECTIONS = [(0,1),(0,-1),(1,0),(-1,0)]\n",
    "\n",
    "while q:\n",
    "    r, c = q.pop(0)\n",
    "\n",
    "    for dr, dc in DIRECTIONS:\n",
    "        if 0 <= r+dr < ROWS and 0 <= c+dc < COLS and grid[r+dr][c+dc] != 1 and dp[r][c] + 1 < dp[r+dr][c+dc]:\n",
    "            dp[r+dr][c+dc] = dp[r][c] + 1\n",
    "            q.append((r+dr,c+dc))\n",
    "\n",
    "dp[-1][-1]"
   ]
  },
  {
   "cell_type": "markdown",
   "metadata": {},
   "source": [
    "# Day 18 Part 2"
   ]
  },
  {
   "cell_type": "code",
   "execution_count": null,
   "metadata": {},
   "outputs": [
    {
     "name": "stdout",
     "output_type": "stream",
     "text": [
      "56 27\n"
     ]
    }
   ],
   "source": [
    "ROWS, COLS = 71, 71\n",
    "\n",
    "grid = [[0] * COLS for _ in range(ROWS)]\n",
    "\n",
    "def path_exists() -> bool:\n",
    "    r, c = 0, 0\n",
    "\n",
    "    q = [(r, c)]\n",
    "    dp = [[float('inf')] * COLS for _ in range(ROWS)]\n",
    "    dp[0][0] = 0\n",
    "    DIRECTIONS = [(0,1),(0,-1),(1,0),(-1,0)]\n",
    "\n",
    "    while q:\n",
    "        r, c = q.pop(0)\n",
    "\n",
    "        for dr, dc in DIRECTIONS:\n",
    "            if 0 <= r+dr < ROWS and 0 <= c+dc < COLS and grid[r+dr][c+dc] != 1 and dp[r][c] + 1 < dp[r+dr][c+dc]:\n",
    "                dp[r+dr][c+dc] = dp[r][c] + 1\n",
    "                q.append((r+dr,c+dc))\n",
    "\n",
    "    if dp[-1][-1] == float('inf'):\n",
    "        return False\n",
    "    return True\n",
    "\n",
    "for line in open('day_18_input.txt', 'r'):\n",
    "    x, y = map(int, line.strip().split(','))\n",
    "    grid[y][x] = 1\n",
    "    if path_exists():\n",
    "        continue\n",
    "    else:\n",
    "        print(x,y)\n",
    "        break"
   ]
  }
 ],
 "metadata": {
  "kernelspec": {
   "display_name": "base",
   "language": "python",
   "name": "python3"
  },
  "language_info": {
   "codemirror_mode": {
    "name": "ipython",
    "version": 3
   },
   "file_extension": ".py",
   "mimetype": "text/x-python",
   "name": "python",
   "nbconvert_exporter": "python",
   "pygments_lexer": "ipython3",
   "version": "3.11.4"
  }
 },
 "nbformat": 4,
 "nbformat_minor": 2
}
