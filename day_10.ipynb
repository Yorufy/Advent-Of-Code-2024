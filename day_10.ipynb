{
 "cells": [
  {
   "cell_type": "markdown",
   "metadata": {},
   "source": [
    "# Day 10 Part 1"
   ]
  },
  {
   "cell_type": "code",
   "execution_count": 5,
   "metadata": {},
   "outputs": [
    {
     "data": {
      "text/plain": [
       "659"
      ]
     },
     "execution_count": 5,
     "metadata": {},
     "output_type": "execute_result"
    }
   ],
   "source": [
    "grid = []\n",
    "trailheads = []\n",
    "\n",
    "row_count = -1\n",
    "for line in open('day_10_input.txt', 'r'):\n",
    "    row_count += 1\n",
    "    grid.append(line.strip())\n",
    "    for j in range(len(line)):\n",
    "        if line[j] == '0':\n",
    "            trailheads.append((row_count,j))\n",
    "\n",
    "ROWS = len(grid)\n",
    "COLS = len(grid[0])\n",
    "\n",
    "def bfs(sr: int, sc: int) -> int:\n",
    "    # Return score of a trailhead given its row and column\n",
    "\n",
    "    q = [(sr,sc)]\n",
    "    peaks = set()\n",
    "    DIRECTIONS = [(0,1),(0,-1),(1,0),(-1,0)]\n",
    "\n",
    "    while q:\n",
    "        r, c = q.pop(0)\n",
    "        if int(grid[r][c]) == 9:\n",
    "            peaks.add((r,c))\n",
    "        else:\n",
    "            for dr, dc in DIRECTIONS:\n",
    "                if 0 <= r + dr < ROWS and 0 <= c + dc < COLS and int(grid[r+dr][c+dc]) == int(grid[r][c]) + 1:\n",
    "                    q.append((r+dr, c+dc))\n",
    "\n",
    "    return len(peaks)\n",
    "\n",
    "total_score = 0\n",
    "\n",
    "for sr, sc in trailheads:\n",
    "    total_score += bfs(sr, sc)\n",
    "\n",
    "total_score"
   ]
  },
  {
   "cell_type": "markdown",
   "metadata": {},
   "source": [
    "# Day 10 Part 2\n",
    "\n",
    "Just do some good old dynamic programming.\n",
    "\n",
    "$dp[i][j] = dp[i-1][j] + dp[i][j-1]$ where $dp[i][j]$ is initially $0$ if it is not the trailhead, in which case it would be $1$."
   ]
  },
  {
   "cell_type": "code",
   "execution_count": null,
   "metadata": {},
   "outputs": [
    {
     "data": {
      "text/plain": [
       "1463"
      ]
     },
     "execution_count": 17,
     "metadata": {},
     "output_type": "execute_result"
    }
   ],
   "source": [
    "grid = []\n",
    "trailheads = []\n",
    "\n",
    "row_count = -1\n",
    "for line in open('day_10_input.txt', 'r'):\n",
    "    row_count += 1\n",
    "    grid.append(line.strip())\n",
    "    for j in range(len(line)):\n",
    "        if line[j] == '0':\n",
    "            trailheads.append((row_count,j))\n",
    "\n",
    "ROWS = len(grid)\n",
    "COLS = len(grid[0])\n",
    "\n",
    "def bfs(sr: int, sc: int) -> int:\n",
    "    # Return rating of a trailhead given its row and column\n",
    "\n",
    "    q = [(sr,sc)]\n",
    "    peaks = set()\n",
    "    dp = [[0]*COLS for _ in range(ROWS)]\n",
    "    dp[sr][sc] = 1\n",
    "    visited = set()\n",
    "    DIRECTIONS = [(0,1),(0,-1),(1,0),(-1,0)]\n",
    "\n",
    "    while q:\n",
    "            \n",
    "        r, c = q.pop(0)\n",
    "\n",
    "        if (r,c) in visited:\n",
    "            continue\n",
    "\n",
    "        if int(grid[r][c]) == 9:\n",
    "            peaks.add((r,c))\n",
    "        else:\n",
    "            for dr, dc in DIRECTIONS:\n",
    "                if 0 <= r + dr < ROWS and 0 <= c + dc < COLS and int(grid[r+dr][c+dc]) == int(grid[r][c]) + 1:\n",
    "                    q.append((r+dr, c+dc))\n",
    "                    dp[r+dr][c+dc] += dp[r][c]\n",
    "\n",
    "        visited.add((r,c))\n",
    "\n",
    "    rating = 0\n",
    "    for peak_r, peak_c in peaks:\n",
    "        rating += dp[peak_r][peak_c]\n",
    "\n",
    "    return rating\n",
    "\n",
    "\n",
    "total_rating = 0\n",
    "\n",
    "for sr, sc in trailheads:\n",
    "    total_rating += bfs(sr, sc)\n",
    "\n",
    "total_rating"
   ]
  }
 ],
 "metadata": {
  "kernelspec": {
   "display_name": "Python 3",
   "language": "python",
   "name": "python3"
  },
  "language_info": {
   "codemirror_mode": {
    "name": "ipython",
    "version": 3
   },
   "file_extension": ".py",
   "mimetype": "text/x-python",
   "name": "python",
   "nbconvert_exporter": "python",
   "pygments_lexer": "ipython3",
   "version": "3.10.11"
  }
 },
 "nbformat": 4,
 "nbformat_minor": 2
}
