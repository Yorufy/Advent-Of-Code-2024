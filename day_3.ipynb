{
 "cells": [
  {
   "cell_type": "markdown",
   "metadata": {},
   "source": [
    "# Day 3 Part 1"
   ]
  },
  {
   "cell_type": "code",
   "execution_count": null,
   "metadata": {},
   "outputs": [
    {
     "data": {
      "text/plain": [
       "188116424"
      ]
     },
     "execution_count": 12,
     "metadata": {},
     "output_type": "execute_result"
    }
   ],
   "source": [
    "import re\n",
    "\n",
    "count = 0\n",
    "stack = []\n",
    "\n",
    "for line in open('day_3_input.txt', 'r'):\n",
    "    for match in re.findall('mul\\([0-9]*,[0-9]*\\)', line):\n",
    "        match = match[4:]\n",
    "        match = match[:-1]\n",
    "        op1, op2 = match.split(',')\n",
    "        count += int(op1) * int(op2)\n"
   ]
  },
  {
   "cell_type": "markdown",
   "metadata": {},
   "source": [
    "# Day 3 Part 2\n",
    "\n",
    "This took me a bit longer than it should have because I didn't realise that the `disabled` flag doesn't reset between lines."
   ]
  },
  {
   "cell_type": "code",
   "execution_count": null,
   "metadata": {},
   "outputs": [
    {
     "data": {
      "text/plain": [
       "104245808"
      ]
     },
     "execution_count": 34,
     "metadata": {},
     "output_type": "execute_result"
    }
   ],
   "source": [
    "import re\n",
    "\n",
    "count = 0\n",
    "disabled = False\n",
    "for line in open('day_3_input.txt', 'r'):\n",
    "    i = 0\n",
    "\n",
    "    while i < len(line):\n",
    "        relative_enable_flag = re.search('do\\(\\)', line[i:])\n",
    "        relative_disable_flag = re.search(\"don't\\(\\)\", line[i:])\n",
    "        relative_mult = re.search('mul\\([0-9]*,[0-9]*\\)', line[i:])\n",
    "\n",
    "        queue = []\n",
    "        if relative_enable_flag:\n",
    "            queue.append(('enable', relative_enable_flag.start(), relative_enable_flag.end()))\n",
    "        if relative_disable_flag:\n",
    "            queue.append(('disable', relative_disable_flag.start(), relative_disable_flag.end()))\n",
    "        if relative_mult:\n",
    "            queue.append(('mult', relative_mult.start(), relative_mult.end()))\n",
    "        queue.sort(key=lambda x: x[1])\n",
    "\n",
    "        if not queue:\n",
    "            break\n",
    "\n",
    "        opcode, start, end = queue[0]\n",
    "        if opcode == 'mult' and not disabled:\n",
    "            instruction = line[i+start:i+end][4:-1]\n",
    "            op1, op2 = instruction.split(',')\n",
    "            if 0 <= int(op1) <= 999 and 0 <= int(op2) <= 999:\n",
    "                count += int(op1) * int(op2)\n",
    "        elif opcode == 'enable':\n",
    "            disabled = False\n",
    "        elif opcode == 'disable':\n",
    "            disabled = True\n",
    "        i = i + end\n",
    "\n",
    "count"
   ]
  }
 ],
 "metadata": {
  "kernelspec": {
   "display_name": "Python 3",
   "language": "python",
   "name": "python3"
  },
  "language_info": {
   "codemirror_mode": {
    "name": "ipython",
    "version": 3
   },
   "file_extension": ".py",
   "mimetype": "text/x-python",
   "name": "python",
   "nbconvert_exporter": "python",
   "pygments_lexer": "ipython3",
   "version": "3.10.11"
  }
 },
 "nbformat": 4,
 "nbformat_minor": 2
}
