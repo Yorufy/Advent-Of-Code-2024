{
 "cells": [
  {
   "cell_type": "markdown",
   "metadata": {},
   "source": [
    "# Day 14 Part 1"
   ]
  },
  {
   "cell_type": "code",
   "execution_count": 23,
   "metadata": {},
   "outputs": [
    {
     "data": {
      "text/plain": [
       "214400550"
      ]
     },
     "execution_count": 23,
     "metadata": {},
     "output_type": "execute_result"
    }
   ],
   "source": [
    "import re\n",
    "\n",
    "ROWS = 103\n",
    "COLS = 101\n",
    "grid = [[0] * COLS for _ in range(ROWS)]\n",
    "\n",
    "for block in open('day_14_input.txt', 'r').read().split('\\n'):\n",
    "    x,y,dx,dy = map(int, re.findall(r'\\-?\\d+', block))\n",
    "    for sec in range(100):\n",
    "        x = (x + dx) % COLS\n",
    "        y = (y + dy) % ROWS\n",
    "    grid[y][x] += 1\n",
    "\n",
    "MID_ROW = ROWS // 2\n",
    "MID_COL = COLS // 2\n",
    "\n",
    "safety_factor = 1\n",
    "count = 0\n",
    "for r in range(0, MID_ROW): # TOP LEFT\n",
    "    for c in range(0, MID_COL):\n",
    "        count += grid[r][c]\n",
    "safety_factor *= count\n",
    "count = 0\n",
    "for r in range(0, MID_ROW): # TOP RIGHT\n",
    "    for c in range(MID_COL+1, COLS):\n",
    "        count += grid[r][c]\n",
    "safety_factor *= count\n",
    "count = 0\n",
    "for r in range(MID_ROW+1, ROWS): # BOTTOM LEFT\n",
    "    for c in range(0, MID_COL):\n",
    "        count += grid[r][c]\n",
    "safety_factor *= count\n",
    "count = 0\n",
    "for r in range(MID_ROW+1, ROWS): # BOTTOM RIGHT\n",
    "    for c in range(MID_COL+1, COLS):\n",
    "        count += grid[r][c]\n",
    "safety_factor *= count\n",
    "\n",
    "safety_factor"
   ]
  },
  {
   "cell_type": "markdown",
   "metadata": {},
   "source": [
    "# Day 14 Part 2\n",
    "\n",
    "My answer was 8149"
   ]
  },
  {
   "cell_type": "code",
   "execution_count": 5,
   "metadata": {},
   "outputs": [],
   "source": [
    "import re\n",
    "\n",
    "ROWS = 103\n",
    "COLS = 101\n",
    "grid = [[0] * COLS for _ in range(ROWS)]\n",
    "pos_dict = dict()\n",
    "\n",
    "for block in open('day_14_input.txt', 'r').read().split('\\n'):\n",
    "    x,y,dx,dy = map(int, re.findall(r'\\-?\\d+', block))\n",
    "    \n",
    "    if pos_dict.get((x,y)) is not None:\n",
    "        pos_dict[(x,y)].append((dx, dy))\n",
    "    else:\n",
    "        pos_dict[(x,y)] = [(dx, dy)]\n",
    "    grid[y][x] += 1\n",
    "\n",
    "for sec in range(10404):\n",
    "\n",
    "    file = open(f'second{sec}.txt', 'a')\n",
    "    for row in grid:\n",
    "        s = ''.join(['1' if item != '0' else '0' for item in map(str, row)])\n",
    "        file.write(s)\n",
    "    file.close()\n",
    "\n",
    "    new_pos_dict = dict()\n",
    "    for x, y in pos_dict.keys():\n",
    "        velocity_list = pos_dict[(x,y)]\n",
    "        for item in velocity_list:\n",
    "            dx, dy = item\n",
    "            nx = (x+dx) % COLS\n",
    "            ny = (y+dy) % ROWS\n",
    "            if new_pos_dict.get((nx, ny)) is not None:\n",
    "                new_pos_dict[(nx, ny)].append((dx,dy))\n",
    "            else:\n",
    "                new_pos_dict[(nx, ny)] = [(dx, dy)]\n",
    "            grid[y][x] -= 1\n",
    "            grid[ny][nx] += 1\n",
    "\n",
    "    pos_dict = new_pos_dict\n"
   ]
  },
  {
   "cell_type": "code",
   "execution_count": 6,
   "metadata": {},
   "outputs": [],
   "source": [
    "from PIL import Image\n",
    "\n",
    "def convert_text_to_image(file_path, width, height, output_file_path):\n",
    "    with open(file_path, 'r') as file:\n",
    "        binary_data = file.read().strip()\n",
    "\n",
    "    img = Image.new('1', (width, height))  # 1-bit pixels: black or white.\n",
    "\n",
    "    pixels = img.load()\n",
    "    for i in range(len(binary_data)):\n",
    "        x = i % width\n",
    "        y = i // width\n",
    "        pixels[x, y] = 1 if binary_data[i] == '1' else 0  # black is the 0 value. white is the 1 value.\n",
    "\n",
    "    img.save(output_file_path)\n",
    "\n",
    "for i in range(10404):\n",
    "    convert_text_to_image(f'second{i}.txt', 101, 103, f'second{i}.png')"
   ]
  }
 ],
 "metadata": {
  "kernelspec": {
   "display_name": "base",
   "language": "python",
   "name": "python3"
  },
  "language_info": {
   "codemirror_mode": {
    "name": "ipython",
    "version": 3
   },
   "file_extension": ".py",
   "mimetype": "text/x-python",
   "name": "python",
   "nbconvert_exporter": "python",
   "pygments_lexer": "ipython3",
   "version": "3.11.4"
  }
 },
 "nbformat": 4,
 "nbformat_minor": 2
}
