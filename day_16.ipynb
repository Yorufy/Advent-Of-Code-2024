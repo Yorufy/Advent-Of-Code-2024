{
 "cells": [
  {
   "cell_type": "markdown",
   "metadata": {},
   "source": [
    "# Day 16 Part 1"
   ]
  },
  {
   "cell_type": "code",
   "execution_count": 70,
   "metadata": {},
   "outputs": [
    {
     "data": {
      "text/plain": [
       "82460"
      ]
     },
     "execution_count": 70,
     "metadata": {},
     "output_type": "execute_result"
    }
   ],
   "source": [
    "import heapq\n",
    "\n",
    "grid = []\n",
    "\n",
    "row_count = -1\n",
    "for line in open('day_16_input.txt', 'r'):\n",
    "    row_count += 1\n",
    "    line = line.strip()\n",
    "    grid.append(line)\n",
    "    if 'E' in line:\n",
    "        END = (row_count, line.index('E'))\n",
    "    if 'S' in line:\n",
    "        START = (row_count, line.index('S'))\n",
    "\n",
    "DIRECTIONS = [(-1,0),(1,0),(0,-1),(0,1)]\n",
    "\n",
    "ROWS = len(grid)\n",
    "COLS = len(grid[0])\n",
    "\n",
    "visited = set((START[0], START[1], 0, 1))\n",
    "ans = float('inf')\n",
    "heap = [(0, START[0], START[1], 0, 1)]\n",
    "heapq.heapify(heap)\n",
    "\n",
    "while heap:\n",
    "    \n",
    "    score, r, c, dr, dc = heapq.heappop(heap)\n",
    "\n",
    "    if (r,c) == END:\n",
    "        ans = min(ans, score)\n",
    "\n",
    "    for new_score, nr, nc, ndr, ndc in [(score+1, r+dr, c+dc, dr, dc), (score+1000, r, c, dc, -dr), (score+1000, r, c, -dc, dr)]:\n",
    "        if grid[nr][nc] != '#' and (nr, nc, ndr, ndc) not in visited:\n",
    "            heapq.heappush(heap, (new_score, nr, nc, ndr, ndc))\n",
    "\n",
    "    visited.add((r,c,dr,dc))\n",
    "\n",
    "ans"
   ]
  },
  {
   "cell_type": "markdown",
   "metadata": {},
   "source": [
    "# Day 16 Part 2"
   ]
  },
  {
   "cell_type": "code",
   "execution_count": null,
   "metadata": {},
   "outputs": [],
   "source": [
    "import heapq\n",
    "\n",
    "grid = []\n",
    "\n",
    "row_count = -1\n",
    "for line in open('day_16_input.txt', 'r'):\n",
    "    row_count += 1\n",
    "    line = line.strip()\n",
    "    grid.append(line)\n",
    "    if 'E' in line:\n",
    "        END = (row_count, line.index('E'))\n",
    "    if 'S' in line:\n",
    "        START = (row_count, line.index('S'))\n",
    "\n",
    "DIRECTIONS = [(-1,0),(1,0),(0,-1),(0,1)]\n",
    "\n",
    "ROWS = len(grid)\n",
    "COLS = len(grid[0])\n",
    "\n",
    "optimal_cost = {(START[0], START[1], 0, 1): 0}\n",
    "prev = dict()\n",
    "ans = float('inf')\n",
    "heap = [(0, START[0], START[1], 0, 1, None, None, None, None)]\n",
    "heapq.heapify(heap)\n",
    "\n",
    "while heap:\n",
    "    \n",
    "    score, r, c, dr, dc, prevr, prevc, prevdr, prevdc = heapq.heappop(heap)\n",
    "\n",
    "    if score > optimal_cost.get((r,c,dr,dc), float('inf')):\n",
    "        continue\n",
    "    optimal_cost[(r,c,dr,dc)] = score\n",
    "\n",
    "    if (r,c) == END:\n",
    "        if score > ans:\n",
    "            break\n",
    "        ans = min(ans, score)\n",
    "        print(r,c,dr,dc)\n",
    "\n",
    "\n",
    "\n",
    "    if (r,c,dr,dc) not in prev.keys():\n",
    "        prev[(r,c,dr,dc)] = set()\n",
    "    prev[(r,c,dr,dc)].add((prevr,prevc,prevdr,prevdc))\n",
    "\n",
    "    for new_score, nr, nc, ndr, ndc in [(score+1, r+dr, c+dc, dr, dc), (score+1000, r, c, dc, -dr), (score+1000, r, c, -dc, dr)]:\n",
    "        if grid[nr][nc] != '#':\n",
    "            if score <= optimal_cost.get((nr, nc, ndr, ndc), float('inf')):\n",
    "                heapq.heappush(heap, (new_score, nr, nc, ndr, ndc, r, c, dr, dc))\n",
    "\n",
    "# We get that (r,c,dr,dc) is (1 139 0 1) only at the end."
   ]
  },
  {
   "cell_type": "code",
   "execution_count": 87,
   "metadata": {},
   "outputs": [
    {
     "data": {
      "text/plain": [
       "590"
      ]
     },
     "execution_count": 87,
     "metadata": {},
     "output_type": "execute_result"
    }
   ],
   "source": [
    "# Now we do the backtracking\n",
    "\n",
    "q = [(1, 139, 0, 1)]\n",
    "\n",
    "path_nodes = set()\n",
    "\n",
    "while q:\n",
    "    r, c, dr, dc = q.pop(0)\n",
    "\n",
    "    if (r,c,dr,dc) == (None, None, None, None):\n",
    "        break\n",
    "\n",
    "    path_nodes.add((r,c))\n",
    "\n",
    "    for (prevr, prevc, prevdr, prevdc) in prev[(r,c,dr,dc)]:\n",
    "        q.append((prevr,prevc,prevdr,prevdc))\n",
    "\n",
    "len(path_nodes)"
   ]
  }
 ],
 "metadata": {
  "kernelspec": {
   "display_name": "base",
   "language": "python",
   "name": "python3"
  },
  "language_info": {
   "codemirror_mode": {
    "name": "ipython",
    "version": 3
   },
   "file_extension": ".py",
   "mimetype": "text/x-python",
   "name": "python",
   "nbconvert_exporter": "python",
   "pygments_lexer": "ipython3",
   "version": "3.11.4"
  }
 },
 "nbformat": 4,
 "nbformat_minor": 2
}
